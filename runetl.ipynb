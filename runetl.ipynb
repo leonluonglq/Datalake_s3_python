{
 "cells": [
  {
   "cell_type": "code",
   "execution_count": 41,
   "metadata": {
    "editable": true
   },
   "outputs": [],
   "source": [
    "import configparser\n",
    "from datetime import datetime\n",
    "import os\n",
    "from pyspark.sql import SparkSession\n",
    "from pyspark.sql.functions import udf, col, monotonically_increasing_id\n",
    "from pyspark.sql.functions import year, month, dayofmonth, hour, weekofyear, date_format,dayofweek\n",
    "from pyspark.sql.types import TimestampType\n",
    "\n",
    "config = configparser.ConfigParser()\n",
    "config.read('dl.cfg')\n",
    "\n",
    "os.environ['AWS_ACCESS_KEY_ID']=config['AWS']['AWS_ACCESS_KEY_ID']\n",
    "os.environ['AWS_SECRET_ACCESS_KEY']=config['AWS']['AWS_SECRET_ACCESS_KEY']\n",
    "\n",
    "\n",
    "def create_spark_session():\n",
    "    spark = SparkSession \\\n",
    "        .builder \\\n",
    "        .config(\"spark.jars.packages\", \"org.apache.hadoop:hadoop-aws:2.7.0\") \\\n",
    "        .getOrCreate()\n",
    "    return spark"
   ]
  },
  {
   "cell_type": "code",
   "execution_count": 2,
   "metadata": {
    "editable": true
   },
   "outputs": [],
   "source": [
    "spark = create_spark_session()"
   ]
  },
  {
   "cell_type": "code",
   "execution_count": 3,
   "metadata": {
    "editable": true
   },
   "outputs": [],
   "source": [
    "def process_song_data(spark, input_data, output_data):\n",
    "    \"\"\"\n",
    "        - Create date : 2022-06-01\n",
    "        - Read song_data json into a dataframe\n",
    "        - From dataframe, Extract data into songs, artist table \n",
    "        - Write all dataframe into parquet files\n",
    "    \"\"\"\n",
    "    # get filepath to song data file\n",
    "    song_data = input_data + 'song_data/*/*/*/*.json'\n",
    "    \n",
    "    # read song data file\n",
    "    dfsong = spark.read.json(song_data)\n",
    "\n",
    "    # extract columns to create songs table\n",
    "    # 3.songs - songs in music database: song_id, title, artist_id, year, duration\n",
    "    songs_table = dfsong.select('song_id', 'title', 'artist_id', 'year', 'duration').dropDuplicates()\n",
    "    \n",
    "    # write songs table to parquet files partitioned by year and artist\n",
    "    songs_table.write.partitionBy(\"year\", \"artist_id\").mode(\"overwrite\").parquet(os.path.join(output_data, 'songs_table/songs.parquet'))\n",
    "\n",
    "    # extract columns to create artists table\n",
    "    # 4.artists - artists in music database: artist_id, name, location, lattitude, longitude\n",
    "    artists_table = dfsong.select(dfsong['artist_id'], dfsong['artist_name'].alias('name'), dfsong['artist_location'].alias('location')\\\n",
    "                                  , dfsong['artist_latitude'].alias('latitude'), dfsong['artist_longitude'].alias('longitude')).dropDuplicates()\n",
    "    \n",
    "    # write artists table to parquet files\n",
    "    artists_table.write.parquet(os.path.join(output_data, 'artists_table/artists.parquet'), 'overwrite')"
   ]
  },
  {
   "cell_type": "code",
   "execution_count": 6,
   "metadata": {
    "editable": true
   },
   "outputs": [],
   "source": [
    "process_song_data(spark, './data/', './output/')"
   ]
  },
  {
   "cell_type": "code",
   "execution_count": 42,
   "metadata": {
    "editable": true
   },
   "outputs": [],
   "source": [
    "process_log_data(spark, './data/', './output/')"
   ]
  },
  {
   "cell_type": "code",
   "execution_count": 39,
   "metadata": {
    "editable": true
   },
   "outputs": [],
   "source": [
    "def process_log_data(spark, input_data, output_data):\n",
    "    \"\"\"\n",
    "        - Create date : 2022-06-01\n",
    "        - Read log_data json into a dataframe\n",
    "        - From dataframe, Extract data into users, songplays table \n",
    "        - Write all dataframe into parquet files\n",
    "    \"\"\"\n",
    "    # get filepath to log data file\n",
    "    log_data = input_data + 'log_data/*.json'\n",
    "\n",
    "    # read log data file\n",
    "    dflog = spark.read.json(log_data)\n",
    "    \n",
    "    # filter by actions for song plays\n",
    "    dflog = dflog.where(dflog.page == 'NextSong')\n",
    "\n",
    "    # extract columns for users table    \n",
    "    # 2.users - users in the app: user_id, first_name, last_name, gender, level\n",
    "    users_table = dflog.select('userId', 'firstName', 'lastName', 'gender', 'level').dropDuplicates()\n",
    "    \n",
    "    # write users table to parquet files\n",
    "    users_table.write.parquet(os.path.join(output_data, 'users_table/users.parquet'), 'overwrite')\n",
    "    \n",
    "    # create timestamp column from original timestamp column\n",
    "    # I had error \"NameError: name 'F' is not defined\", so I change \"F.to_timestamp\" =>\n",
    "    # I had error \"ValueError: year 50806 is out of range\" before\n",
    "    #get_timestamp = udf(lambda x: str(datetime.fromtimestamp(int(x))))\n",
    "    get_timestamp = udf(lambda x : datetime.utcfromtimestamp(int(x)/1000), TimestampType())\n",
    "    dflog = dflog.withColumn(\"start_time\", get_timestamp(\"ts\").cast(\"timestamp\"))\n",
    "    \n",
    "    # create datetime column from original timestamp column\n",
    "    get_datetime = udf(lambda x: str(datetime.fromtimestamp(int(x) / 1000)))\n",
    "    dflog = dflog.withColumn('datetime', get_datetime(dflog.ts))\n",
    "\n",
    "\n",
    "    # extract columns to create time table\n",
    "    # 5.time - timestamps of records in songplays broken down into specific units: \n",
    "    # start_time, hour, day, week, month, year, weekday\n",
    "    time_table = dflog.select('datetime') \\\n",
    "    .withColumn('start_time', dflog.datetime) \\\n",
    "    .withColumn('hour', hour('datetime')) \\\n",
    "    .withColumn('day', dayofmonth('datetime')) \\\n",
    "    .withColumn('week', weekofyear('datetime')) \\\n",
    "    .withColumn('month', month('datetime')) \\\n",
    "    .withColumn('year', year('datetime')) \\\n",
    "    .withColumn('weekday', dayofweek('datetime')) \\\n",
    "    .dropDuplicates()    \n",
    "    # write time table to parquet files partitioned by year and month\n",
    "    # I had this issue before: \"Py4JJavaError: An error occurred while calling o1446.parquet.: org.apache.spark.SparkException: Job aborted.\"\n",
    "    time_table.write.mode('overwrite').partitionBy('year', 'month').parquet(output_data+ 'time_table/time.parquet')\n",
    "\n",
    "    # read in song data to use for songplays table\n",
    "    song_data = input_data + 'song_data/*/*/*/*.json'\n",
    "    song_df = spark.read.json(song_data)\n",
    "\n",
    "    # extract columns from joined song and log datasets to create songplays table \n",
    "    # 1.songplays - records in log data associated with song plays i.e. records with page NextSong\n",
    "    # songplay_id, start_time, user_id, level, song_id, artist_id, session_id, location, user_agent\n",
    "    # I had this issue before \"ValueError: year 50806 is out of range\" => so I changed to user spark.sql\n",
    "    # I had this issue \"TypeError: <lambda>() missing 1 required positional argument: 'x'\" for this function F.monotonically_increasing_id()\n",
    "    # create 2 temp view for songs and log, then inner join 2 table with condition\n",
    "    \n",
    "    song_df.createOrReplaceTempView('songs') \n",
    "    dflog = dflog.withColumn('songplay_id', monotonically_increasing_id())\n",
    "    dflog.createOrReplaceTempView('logs')\n",
    "\n",
    "    # extract columns from joined song and log datasets to create songplays table \n",
    "    songplays_table =  spark.sql(\"\"\"\n",
    "                            SELECT\n",
    "                                l.songplay_id,\n",
    "                                l.datetime as start_time,\n",
    "                                year(l.datetime) as year,\n",
    "                                month(l.datetime) as month,\n",
    "                                l.userId as user_id,\n",
    "                                l.level,\n",
    "                                s.song_id,\n",
    "                                s.artist_id,\n",
    "                                l.sessionId as session_id,\n",
    "                                l.location,\n",
    "                                l.userAgent as user_agent\n",
    "                            FROM logs l\n",
    "                            LEFT JOIN songs s ON\n",
    "                                l.song = s.title AND\n",
    "                                l.artist = s.artist_name \n",
    "                            \"\"\")\n",
    "\n",
    "    #songplays_table = songplays_table.select('songplay_id', col('start_time'),col('userId').alias('user_id'), 'level','song_id','artist_id',col('sessionId').alias('session_id'),'location', col('userAgent').alias('user_agent')).dropDuplicates()\n",
    "\n",
    "\n",
    "    # write songplays table to parquet files partitioned by year and month   \n",
    "\n",
    "    songplays_table = songplays_table.write.parquet('./output/'+'./songplays_table/', partitionBy=[\"year\",\"month\"], mode='overwrite')"
   ]
  },
  {
   "cell_type": "code",
   "execution_count": null,
   "metadata": {
    "editable": true
   },
   "outputs": [],
   "source": []
  }
 ],
 "metadata": {
  "kernelspec": {
   "display_name": "Python 3",
   "language": "python",
   "name": "python3"
  },
  "language_info": {
   "codemirror_mode": {
    "name": "ipython",
    "version": 3
   },
   "file_extension": ".py",
   "mimetype": "text/x-python",
   "name": "python",
   "nbconvert_exporter": "python",
   "pygments_lexer": "ipython3",
   "version": "3.6.3"
  }
 },
 "nbformat": 4,
 "nbformat_minor": 4
}
